{
 "cells": [
  {
   "cell_type": "code",
   "execution_count": 7,
   "metadata": {
    "collapsed": true
   },
   "outputs": [],
   "source": [
    "import requests\n",
    "\n",
    "from bs4 import BeautifulSoup"
   ]
  },
  {
   "cell_type": "code",
   "execution_count": 8,
   "outputs": [],
   "source": [
    "ADAM
response = requests.get(\n",
    "    'https://www.sofascore.com/arsenal-manchester-city/rsR#10385636',\n",
    "    headers={'User-Agent': 'Mozilla/5.0'} # you'll be blocked if you don't use some type of user agent\n",
    ")"
   ],
   "metadata": {
    "collapsed": false
   }
  },
  {
   "cell_type": "code",
   "execution_count": 9,
   "outputs": [],
   "source": [
    "soup = BeautifulSoup(response.text, 'html.parser')"
   ],
   "metadata": {
    "collapsed": false
   }
  },
  {
   "cell_type": "markdown",
   "source": [
    "If we wanted to scrape all of the shots using just normal requests and beautiful soup...\n",
    "We'd have to do some pretty complicated stuff to get the data we want"
   ],
   "metadata": {
    "collapsed": false
   }
  },
  {
   "cell_type": "code",
   "execution_count": 13,
   "outputs": [
    {
     "data": {
      "text/plain": "[]"
     },
     "execution_count": 13,
     "metadata": {},
     "output_type": "execute_result"
    }
   ],
   "source": [
    "# As you can see we can't even get the shots because they are dynamically loaded\n",
    "soup.select('g[cursor=\"pointer\"]')"
   ],
   "metadata": {
    "collapsed": false
   }
  },
  {
   "cell_type": "markdown",
   "source": [
    "What we'll do is use the API's they are loading to call that data directly\n",
    "\n",
    "If we look in the `network` tab of the developer tools we can see the API calls they are making\n",
    "and then we can copy that and make it ourselves in our code"
   ],
   "metadata": {
    "collapsed": false
   }
  },
  {
   "cell_type": "markdown",
   "source": [
    "# Steps:\n",
    "1. Find the API call `shotmap` in the network tab\n",
    "2. Right click and copy as a cURL\n",
    "3. go to curlconverter.com and paste the cURL\n",
    "4. copy the python code"
   ],
   "metadata": {
    "collapsed": false
   }
  },
  {
   "cell_type": "code",
   "execution_count": 14,
   "outputs": [],
   "source": [
    "# These are the headers we need to access the API\n",
    "headers = {\n",
    "    'authority': 'api.sofascore.com',\n",
    "    'accept': '*/*',\n",
    "    'accept-language': 'en-US,en;q=0.9',\n",
    "    'cache-control': 'max-age=0',\n",
    "    'dnt': '1',\n",
    "    'if-none-match': 'W/\"4bebed6144\"',\n",
    "    'origin': 'https://www.sofascore.com',\n",
    "    'referer': 'https://www.sofascore.com/',\n",
    "    'sec-ch-ua': '\"Not.A/Brand\";v=\"8\", \"Chromium\";v=\"114\"',\n",
    "    'sec-ch-ua-mobile': '?0',\n",
    "    'sec-ch-ua-platform': '\"macOS\"',\n",
    "    'sec-fetch-dest': 'empty',\n",
    "    'sec-fetch-mode': 'cors',\n",
    "    'sec-fetch-site': 'same-site',\n",
    "    'user-agent': 'Mozilla/5.0 (Macintosh; Intel Mac OS X 10_15_7) AppleWebKit/537.36 (KHTML, like Gecko) Chrome/114.0.0.0 Safari/537.36',\n",
    "}\n",
    "\n",
    "# you'll need to change the url to match the one you copied. As you can see they have some sort of match id to identify the game --> 10385636\n",
    "response = requests.get('https://api.sofascore.com/api/v1/event/10385636/shotmap', headers=headers)"
   ],
   "metadata": {
    "collapsed": false
   }
  },
  {
   "cell_type": "code",
   "execution_count": 17,
   "outputs": [
    {
     "data": {
      "text/plain": "<Response [304]>"
     },
     "execution_count": 17,
     "metadata": {},
     "output_type": "execute_result"
    }
   ],
   "source": [
    "# If you make the request without doing anything else though you will get a 304 response\n",
    "# which means \"not modified\"\n",
    "response"
   ],
   "metadata": {
    "collapsed": false
   }
  },
  {
   "cell_type": "code",
   "execution_count": 19,
   "outputs": [],
   "source": [
    "# The way to fix this is to add the 'If-Modified-Since' header to the request\n",
    "# You can change this dynamically or just hardcode and change it every time you run the script\n",
    "headers['If-Modified-Since'] = 'Tues, 18 Jul 2023 00:00:00 GMT'"
   ],
   "metadata": {
    "collapsed": false
   }
  },
  {
   "cell_type": "code",
   "execution_count": 20,
   "outputs": [
    {
     "data": {
      "text/plain": "<Response [200]>"
     },
     "execution_count": 20,
     "metadata": {},
     "output_type": "execute_result"
    }
   ],
   "source": [
    "# Now we get a 200 response\n",
    "response = requests.get('https://api.sofascore.com/api/v1/event/10385636/shotmap', headers=headers)\n",
    "response"
   ],
   "metadata": {
    "collapsed": false
   }
  },
  {
   "cell_type": "code",
   "execution_count": 21,
   "outputs": [],
   "source": [
    "# Now we can get the data we want\n",
    "shots = response.json()"
   ],
   "metadata": {
    "collapsed": false
   }
  },
  {
   "cell_type": "code",
   "execution_count": 22,
   "outputs": [
    {
     "data": {
      "text/plain": "{'shotmap': [{'player': {'name': 'Erling Haaland',\n    'firstName': '',\n    'lastName': '',\n    'slug': 'erling-haaland',\n    'shortName': 'E. Haaland',\n    'position': 'F',\n    'userCount': 252657,\n    'id': 839956},\n   'isHome': True,\n   'shotType': 'goal',\n   'goalType': 'regular',\n   'situation': 'assisted',\n   'playerCoordinates': {'x': 13.9, 'y': 50.4, 'z': 0},\n   'bodyPart': 'left-foot',\n   'goalMouthLocation': 'low-centre',\n   'goalMouthCoordinates': {'x': 0, 'y': 51.7, 'z': 3.8},\n   'xg': 0.32696941494942,\n   'xgot': 0.3211,\n   'id': 1961580,\n   'time': 90,\n   'addedTime': 5,\n   'timeSeconds': 5671,\n   'draw': {'start': {'x': 50.4, 'y': 13.9},\n    'end': {'x': 48.3, 'y': 0},\n    'goal': {'x': 48.3, 'y': 96.2}},\n   'reversedPeriodTime': 1,\n   'reversedPeriodTimeSeconds': 629,\n   'incidentType': 'shot'},\n  {'player': {'name': 'Rob Holding',\n    'slug': 'rob-holding',\n    'shortName': 'R. Holding',\n    'position': 'D',\n    'userCount': 2093,\n    'id': 793228},\n   'isHome': False,\n   'shotType': 'goal',\n   'goalType': 'regular',\n   'situation': 'corner',\n   'playerCoordinates': {'x': 14.1, 'y': 51.5, 'z': 0},\n   'bodyPart': 'right-foot',\n   'goalMouthLocation': 'low-right',\n   'goalMouthCoordinates': {'x': 0, 'y': 47.6, 'z': 18.4},\n   'xg': 0.074740491807461,\n   'xgot': 0.1184,\n   'id': 1961570,\n   'time': 86,\n   'timeSeconds': 5150,\n   'draw': {'start': {'x': 51.5, 'y': 14.1},\n    'end': {'x': 52.4, 'y': 0},\n    'goal': {'x': 52.4, 'y': 81.6}},\n   'reversedPeriodTime': 5,\n   'reversedPeriodTimeSeconds': 250,\n   'incidentType': 'shot'},\n  {'player': {'name': 'Bukayo Saka',\n    'firstName': '',\n    'lastName': '',\n    'slug': 'bukayo-saka',\n    'shortName': 'B. Saka',\n    'position': 'F',\n    'userCount': 34020,\n    'id': 934235},\n   'isHome': False,\n   'shotType': 'miss',\n   'situation': 'free-kick',\n   'playerCoordinates': {'x': 22.6, 'y': 70.5, 'z': 0},\n   'bodyPart': 'left-foot',\n   'goalMouthLocation': 'close-high',\n   'goalMouthCoordinates': {'x': 0, 'y': 55.3, 'z': 54.2},\n   'xg': 0.056156579405069,\n   'id': 1961561,\n   'time': 80,\n   'timeSeconds': 4749,\n   'draw': {'start': {'x': 70.5, 'y': 22.6},\n    'end': {'x': 44.7, 'y': 0},\n    'goal': {'x': 44.7, 'y': 45.8}},\n   'reversedPeriodTime': 11,\n   'reversedPeriodTimeSeconds': 651,\n   'incidentType': 'shot'},\n  {'player': {'name': 'İlkay Gündoğan',\n    'slug': 'ilkay-gundogan',\n    'shortName': 'İ. Gündoğan',\n    'position': 'M',\n    'userCount': 17198,\n    'id': 45853},\n   'isHome': True,\n   'shotType': 'miss',\n   'situation': 'assisted',\n   'playerCoordinates': {'x': 23.7, 'y': 61.5, 'z': 0},\n   'bodyPart': 'right-foot',\n   'goalMouthLocation': 'high-right',\n   'goalMouthCoordinates': {'x': 0, 'y': 33.1, 'z': 51.4},\n   'xg': 0.041799295693636,\n   'id': 1961531,\n   'time': 64,\n   'timeSeconds': 3839,\n   'draw': {'start': {'x': 61.5, 'y': 23.7},\n    'end': {'x': 66.9, 'y': 0},\n    'goal': {'x': 66.9, 'y': 48.6}},\n   'reversedPeriodTime': 27,\n   'reversedPeriodTimeSeconds': 1561,\n   'incidentType': 'shot'},\n  {'player': {'name': 'Rob Holding',\n    'slug': 'rob-holding',\n    'shortName': 'R. Holding',\n    'position': 'D',\n    'userCount': 2093,\n    'id': 793228},\n   'isHome': False,\n   'shotType': 'block',\n   'situation': 'set-piece',\n   'playerCoordinates': {'x': 9.5, 'y': 55.5, 'z': 0},\n   'bodyPart': 'right-foot',\n   'goalMouthLocation': 'low-right',\n   'goalMouthCoordinates': {'x': 0, 'y': 48, 'z': 19},\n   'blockCoordinates': {'x': 8.8, 'y': 55.2, 'z': 0},\n   'xg': 0.089929968118668,\n   'id': 1961514,\n   'time': 57,\n   'timeSeconds': 3401,\n   'draw': {'start': {'x': 55.5, 'y': 9.5},\n    'block': {'x': 55.2, 'y': 8.8},\n    'end': {'x': 52, 'y': 0},\n    'goal': {'x': 52, 'y': 81}},\n   'reversedPeriodTime': 34,\n   'reversedPeriodTimeSeconds': 1999,\n   'incidentType': 'shot'},\n  {'player': {'name': 'Oleksandr Zinchenko',\n    'firstName': '',\n    'lastName': '',\n    'slug': 'oleksandr-zinchenko',\n    'shortName': 'O. Zinchenko',\n    'position': 'D',\n    'userCount': 10824,\n    'id': 287643},\n   'isHome': False,\n   'shotType': 'block',\n   'situation': 'set-piece',\n   'playerCoordinates': {'x': 20, 'y': 49, 'z': 0},\n   'bodyPart': 'left-foot',\n   'goalMouthLocation': 'low-centre',\n   'goalMouthCoordinates': {'x': 0, 'y': 50.2, 'z': 19},\n   'blockCoordinates': {'x': 12.7, 'y': 49.3, 'z': 0},\n   'xg': 0.047866210341454,\n   'id': 1961509,\n   'time': 57,\n   'timeSeconds': 3400,\n   'draw': {'start': {'x': 49, 'y': 20},\n    'block': {'x': 49.3, 'y': 12.7},\n    'end': {'x': 49.8, 'y': 0},\n    'goal': {'x': 49.8, 'y': 81}},\n   'reversedPeriodTime': 34,\n   'reversedPeriodTimeSeconds': 2000,\n   'incidentType': 'shot'},\n  {'player': {'name': 'Gabriel Magalhães',\n    'firstName': '',\n    'lastName': '',\n    'slug': 'gabriel-magalhaes',\n    'shortName': 'Gabriel',\n    'position': 'D',\n    'userCount': 5853,\n    'id': 869792},\n   'isHome': False,\n   'shotType': 'block',\n   'situation': 'set-piece',\n   'playerCoordinates': {'x': 11.2, 'y': 48.1, 'z': 0},\n   'bodyPart': 'left-foot',\n   'goalMouthLocation': 'low-centre',\n   'goalMouthCoordinates': {'x': 0, 'y': 51.4, 'z': 19},\n   'blockCoordinates': {'x': 9.2, 'y': 48.2, 'z': 0},\n   'xg': 0.062610112130642,\n   'id': 1961506,\n   'time': 57,\n   'timeSeconds': 3395,\n   'draw': {'start': {'x': 48.1, 'y': 11.2},\n    'block': {'x': 48.2, 'y': 9.2},\n    'end': {'x': 48.6, 'y': 0},\n    'goal': {'x': 48.6, 'y': 81}},\n   'reversedPeriodTime': 34,\n   'reversedPeriodTimeSeconds': 2005,\n   'incidentType': 'shot'},\n  {'player': {'name': 'Kevin De Bruyne',\n    'firstName': '',\n    'lastName': '',\n    'slug': 'kevin-de-bruyne',\n    'shortName': 'K. De Bruyne',\n    'position': 'M',\n    'userCount': 136133,\n    'id': 70996},\n   'isHome': True,\n   'shotType': 'goal',\n   'goalType': 'regular',\n   'situation': 'assisted',\n   'playerCoordinates': {'x': 10.7, 'y': 36, 'z': 0},\n   'bodyPart': 'right-foot',\n   'goalMouthLocation': 'low-right',\n   'goalMouthCoordinates': {'x': 0, 'y': 47.6, 'z': 1.3},\n   'xg': 0.10355192422867,\n   'xgot': 0.2371,\n   'id': 1961488,\n   'time': 54,\n   'timeSeconds': 3194,\n   'draw': {'start': {'x': 36, 'y': 10.7},\n    'end': {'x': 52.4, 'y': 0},\n    'goal': {'x': 52.4, 'y': 98.7}},\n   'reversedPeriodTime': 37,\n   'reversedPeriodTimeSeconds': 2206,\n   'incidentType': 'shot'},\n  {'player': {'name': 'Bernardo Silva',\n    'firstName': '',\n    'lastName': '',\n    'slug': 'bernardo-silva',\n    'shortName': 'B. Silva',\n    'position': 'M',\n    'userCount': 23732,\n    'id': 331209},\n   'isHome': True,\n   'shotType': 'block',\n   'situation': 'assisted',\n   'playerCoordinates': {'x': 17.8, 'y': 45.8, 'z': 0},\n   'bodyPart': 'left-foot',\n   'goalMouthLocation': 'low-centre',\n   'goalMouthCoordinates': {'x': 0, 'y': 51.7, 'z': 19},\n   'blockCoordinates': {'x': 8.5, 'y': 47.1, 'z': 0},\n   'xg': 0.10127208381891,\n   'id': 1961484,\n   'time': 53,\n   'timeSeconds': 3151,\n   'draw': {'start': {'x': 45.8, 'y': 17.8},\n    'block': {'x': 47.1, 'y': 8.5},\n    'end': {'x': 48.3, 'y': 0},\n    'goal': {'x': 48.3, 'y': 81}},\n   'reversedPeriodTime': 38,\n   'reversedPeriodTimeSeconds': 2249,\n   'incidentType': 'shot'},\n  {'player': {'name': 'Erling Haaland',\n    'firstName': '',\n    'lastName': '',\n    'slug': 'erling-haaland',\n    'shortName': 'E. Haaland',\n    'position': 'F',\n    'userCount': 252657,\n    'id': 839956},\n   'isHome': True,\n   'shotType': 'save',\n   'situation': 'assisted',\n   'playerCoordinates': {'x': 16.2, 'y': 52.2, 'z': 0},\n   'bodyPart': 'left-foot',\n   'goalMouthLocation': 'low-centre',\n   'goalMouthCoordinates': {'x': 0, 'y': 51.3, 'z': 3.2},\n   'blockCoordinates': {'x': 10.2, 'y': 51.4, 'z': 0},\n   'xg': 0.45632728934288,\n   'xgot': 0.2593,\n   'id': 1961487,\n   'time': 53,\n   'timeSeconds': 3143,\n   'draw': {'start': {'x': 52.2, 'y': 16.2},\n    'block': {'x': 51.4, 'y': 10.2},\n    'end': {'x': 48.7, 'y': 0},\n    'goal': {'x': 48.7, 'y': 96.8}},\n   'reversedPeriodTime': 38,\n   'reversedPeriodTimeSeconds': 2257,\n   'incidentType': 'shot'},\n  {'player': {'name': 'Granit Xhaka',\n    'firstName': '',\n    'lastName': '',\n    'slug': 'granit-xhaka',\n    'shortName': 'G. Xhaka',\n    'position': 'M',\n    'userCount': 7201,\n    'id': 117777},\n   'isHome': False,\n   'shotType': 'save',\n   'situation': 'assisted',\n   'playerCoordinates': {'x': 18.1, 'y': 31.4, 'z': 0},\n   'bodyPart': 'left-foot',\n   'goalMouthLocation': 'high-centre',\n   'goalMouthCoordinates': {'x': 0, 'y': 49.3, 'z': 20.9},\n   'blockCoordinates': {'x': 1.8, 'y': 47.5, 'z': 0},\n   'xg': 0.032111451029778,\n   'xgot': 0.0425,\n   'id': 1961462,\n   'time': 48,\n   'timeSeconds': 2823,\n   'draw': {'start': {'x': 31.4, 'y': 18.1},\n    'block': {'x': 47.5, 'y': 1.8},\n    'end': {'x': 50.7, 'y': 0},\n    'goal': {'x': 50.7, 'y': 79.1}},\n   'reversedPeriodTime': 43,\n   'reversedPeriodTimeSeconds': 2577,\n   'incidentType': 'shot'},\n  {'player': {'name': 'Kevin De Bruyne',\n    'firstName': '',\n    'lastName': '',\n    'slug': 'kevin-de-bruyne',\n    'shortName': 'K. De Bruyne',\n    'position': 'M',\n    'userCount': 136133,\n    'id': 70996},\n   'isHome': True,\n   'shotType': 'miss',\n   'situation': 'assisted',\n   'playerCoordinates': {'x': 9.8, 'y': 69.6, 'z': 0},\n   'bodyPart': 'right-foot',\n   'goalMouthLocation': 'right',\n   'goalMouthCoordinates': {'x': 0, 'y': 39.8, 'z': 5.6},\n   'xg': 0.12418641895056,\n   'id': 1961458,\n   'time': 46,\n   'timeSeconds': 2712,\n   'draw': {'start': {'x': 69.6, 'y': 9.8},\n    'end': {'x': 60.2, 'y': 0},\n    'goal': {'x': 60.2, 'y': 94.4}},\n   'reversedPeriodTime': 45,\n   'reversedPeriodTimeSeconds': 2688,\n   'incidentType': 'shot'},\n  {'player': {'name': 'John Stones',\n    'slug': 'john-stones',\n    'shortName': 'J. Stones',\n    'position': 'D',\n    'userCount': 7078,\n    'id': 152077},\n   'isHome': True,\n   'shotType': 'goal',\n   'goalType': 'regular',\n   'situation': 'set-piece',\n   'playerCoordinates': {'x': 6.5, 'y': 41.9, 'z': 0},\n   'bodyPart': 'head',\n   'goalMouthLocation': 'low-right',\n   'goalMouthCoordinates': {'x': 0, 'y': 47.4, 'z': 18.4},\n   'xg': 0.15808187425137,\n   'xgot': 0.2704,\n   'id': 1961404,\n   'time': 45,\n   'addedTime': 1,\n   'timeSeconds': 2726,\n   'draw': {'start': {'x': 41.9, 'y': 6.5},\n    'end': {'x': 52.6, 'y': 0},\n    'goal': {'x': 52.6, 'y': 81.6}},\n   'reversedPeriodTime': 1,\n   'reversedPeriodTimeSeconds': 2674,\n   'incidentType': 'shot'},\n  {'player': {'name': 'Erling Haaland',\n    'firstName': '',\n    'lastName': '',\n    'slug': 'erling-haaland',\n    'shortName': 'E. Haaland',\n    'position': 'F',\n    'userCount': 252657,\n    'id': 839956},\n   'isHome': True,\n   'shotType': 'save',\n   'situation': 'assisted',\n   'playerCoordinates': {'x': 8.7, 'y': 41.2, 'z': 0},\n   'bodyPart': 'left-foot',\n   'goalMouthLocation': 'low-left',\n   'goalMouthCoordinates': {'x': 0, 'y': 53.8, 'z': 2.5},\n   'blockCoordinates': {'x': 1.5, 'y': 47.1, 'z': 0},\n   'xg': 0.17905725538731,\n   'xgot': 0.3522,\n   'id': 1961389,\n   'time': 41,\n   'timeSeconds': 2404,\n   'draw': {'start': {'x': 41.2, 'y': 8.7},\n    'block': {'x': 47.1, 'y': 1.5},\n    'end': {'x': 46.2, 'y': 0},\n    'goal': {'x': 46.2, 'y': 97.5}},\n   'reversedPeriodTime': 5,\n   'reversedPeriodTimeSeconds': 296,\n   'incidentType': 'shot'},\n  {'player': {'name': 'Erling Haaland',\n    'firstName': '',\n    'lastName': '',\n    'slug': 'erling-haaland',\n    'shortName': 'E. Haaland',\n    'position': 'F',\n    'userCount': 252657,\n    'id': 839956},\n   'isHome': True,\n   'shotType': 'miss',\n   'situation': 'fast-break',\n   'playerCoordinates': {'x': 15.1, 'y': 46.2, 'z': 0},\n   'bodyPart': 'left-foot',\n   'goalMouthLocation': 'close-left',\n   'goalMouthCoordinates': {'x': 0, 'y': 56.8, 'z': 8.3},\n   'xg': 0.1746092736721,\n   'id': 1961379,\n   'time': 36,\n   'timeSeconds': 2129,\n   'draw': {'start': {'x': 46.2, 'y': 15.1},\n    'end': {'x': 43.2, 'y': 0},\n    'goal': {'x': 43.2, 'y': 91.7}},\n   'reversedPeriodTime': 10,\n   'reversedPeriodTimeSeconds': 571,\n   'incidentType': 'shot'},\n  {'player': {'name': 'Thomas Partey',\n    'firstName': '',\n    'lastName': '',\n    'slug': 'thomas-partey',\n    'shortName': 'T. Partey',\n    'position': 'M',\n    'userCount': 21805,\n    'id': 316148},\n   'isHome': False,\n   'shotType': 'miss',\n   'situation': 'assisted',\n   'playerCoordinates': {'x': 17.9, 'y': 54.4, 'z': 0},\n   'bodyPart': 'right-foot',\n   'goalMouthLocation': 'close-right',\n   'goalMouthCoordinates': {'x': 0, 'y': 41.3, 'z': 5.6},\n   'xg': 0.09849901497364,\n   'id': 1961376,\n   'time': 35,\n   'timeSeconds': 2065,\n   'draw': {'start': {'x': 54.4, 'y': 17.9},\n    'end': {'x': 58.7, 'y': 0},\n    'goal': {'x': 58.7, 'y': 94.4}},\n   'reversedPeriodTime': 11,\n   'reversedPeriodTimeSeconds': 635,\n   'incidentType': 'shot'},\n  {'player': {'name': 'Erling Haaland',\n    'firstName': '',\n    'lastName': '',\n    'slug': 'erling-haaland',\n    'shortName': 'E. Haaland',\n    'position': 'F',\n    'userCount': 252657,\n    'id': 839956},\n   'isHome': True,\n   'shotType': 'save',\n   'situation': 'assisted',\n   'playerCoordinates': {'x': 6.1, 'y': 29.3, 'z': 0},\n   'bodyPart': 'left-foot',\n   'goalMouthLocation': 'low-centre',\n   'goalMouthCoordinates': {'x': 0, 'y': 51.1, 'z': 14.6},\n   'blockCoordinates': {'x': 1.2, 'y': 44.9, 'z': 0},\n   'xg': 0.029425419867039,\n   'xgot': 0.0254,\n   'id': 1961373,\n   'time': 32,\n   'timeSeconds': 1884,\n   'draw': {'start': {'x': 29.3, 'y': 6.1},\n    'block': {'x': 44.9, 'y': 1.2},\n    'end': {'x': 48.9, 'y': 0},\n    'goal': {'x': 48.9, 'y': 85.4}},\n   'reversedPeriodTime': 14,\n   'reversedPeriodTimeSeconds': 816,\n   'incidentType': 'shot'},\n  {'player': {'name': 'Erling Haaland',\n    'firstName': '',\n    'lastName': '',\n    'slug': 'erling-haaland',\n    'shortName': 'E. Haaland',\n    'position': 'F',\n    'userCount': 252657,\n    'id': 839956},\n   'isHome': True,\n   'shotType': 'save',\n   'situation': 'assisted',\n   'playerCoordinates': {'x': 10.5, 'y': 56.3, 'z': 0},\n   'bodyPart': 'left-foot',\n   'goalMouthLocation': 'low-left',\n   'goalMouthCoordinates': {'x': 0, 'y': 52, 'z': 3.8},\n   'blockCoordinates': {'x': 3.3, 'y': 52.3, 'z': 0},\n   'xg': 0.45661526918411,\n   'xgot': 0.7402,\n   'id': 1961368,\n   'time': 28,\n   'timeSeconds': 1657,\n   'draw': {'start': {'x': 56.3, 'y': 10.5},\n    'block': {'x': 52.3, 'y': 3.3},\n    'end': {'x': 48, 'y': 0},\n    'goal': {'x': 48, 'y': 96.2}},\n   'reversedPeriodTime': 18,\n   'reversedPeriodTimeSeconds': 1043,\n   'incidentType': 'shot'},\n  {'player': {'name': 'Kevin De Bruyne',\n    'firstName': '',\n    'lastName': '',\n    'slug': 'kevin-de-bruyne',\n    'shortName': 'K. De Bruyne',\n    'position': 'M',\n    'userCount': 136133,\n    'id': 70996},\n   'isHome': True,\n   'shotType': 'block',\n   'situation': 'assisted',\n   'playerCoordinates': {'x': 12.1, 'y': 44.9, 'z': 0},\n   'bodyPart': 'left-foot',\n   'goalMouthLocation': 'low-centre',\n   'goalMouthCoordinates': {'x': 0, 'y': 49.5, 'z': 19},\n   'blockCoordinates': {'x': 9.7, 'y': 46, 'z': 0},\n   'xg': 0.24384705722332,\n   'id': 1961360,\n   'time': 26,\n   'timeSeconds': 1534,\n   'draw': {'start': {'x': 44.9, 'y': 12.1},\n    'block': {'x': 46, 'y': 9.7},\n    'end': {'x': 50.5, 'y': 0},\n    'goal': {'x': 50.5, 'y': 81}},\n   'reversedPeriodTime': 20,\n   'reversedPeriodTimeSeconds': 1166,\n   'incidentType': 'shot'},\n  {'player': {'name': 'Gabriel Magalhães',\n    'firstName': '',\n    'lastName': '',\n    'slug': 'gabriel-magalhaes',\n    'shortName': 'Gabriel',\n    'position': 'D',\n    'userCount': 5853,\n    'id': 869792},\n   'isHome': False,\n   'shotType': 'miss',\n   'situation': 'set-piece',\n   'playerCoordinates': {'x': 12.6, 'y': 59.4, 'z': 0},\n   'bodyPart': 'head',\n   'goalMouthLocation': 'close-right',\n   'goalMouthCoordinates': {'x': 0, 'y': 41.5, 'z': 18.1},\n   'xg': 0.018924497067928,\n   'id': 1961355,\n   'time': 24,\n   'timeSeconds': 1384,\n   'draw': {'start': {'x': 59.4, 'y': 12.6},\n    'end': {'x': 58.5, 'y': 0},\n    'goal': {'x': 58.5, 'y': 81.9}},\n   'reversedPeriodTime': 22,\n   'reversedPeriodTimeSeconds': 1316,\n   'incidentType': 'shot'},\n  {'player': {'name': 'Bernardo Silva',\n    'firstName': '',\n    'lastName': '',\n    'slug': 'bernardo-silva',\n    'shortName': 'B. Silva',\n    'position': 'M',\n    'userCount': 23732,\n    'id': 331209},\n   'isHome': True,\n   'shotType': 'save',\n   'situation': 'regular',\n   'playerCoordinates': {'x': 12.5, 'y': 66, 'z': 0},\n   'bodyPart': 'left-foot',\n   'goalMouthLocation': 'low-left',\n   'goalMouthCoordinates': {'x': 0, 'y': 52.1, 'z': 2.5},\n   'blockCoordinates': {'x': 1.6, 'y': 52.2, 'z': 0},\n   'xg': 0.039447080343962,\n   'xgot': 0.1569,\n   'id': 1961347,\n   'time': 22,\n   'timeSeconds': 1271,\n   'draw': {'start': {'x': 66, 'y': 12.5},\n    'block': {'x': 52.2, 'y': 1.6},\n    'end': {'x': 47.9, 'y': 0},\n    'goal': {'x': 47.9, 'y': 97.5}},\n   'reversedPeriodTime': 24,\n   'reversedPeriodTimeSeconds': 1429,\n   'incidentType': 'shot'},\n  {'player': {'name': 'Kevin De Bruyne',\n    'firstName': '',\n    'lastName': '',\n    'slug': 'kevin-de-bruyne',\n    'shortName': 'K. De Bruyne',\n    'position': 'M',\n    'userCount': 136133,\n    'id': 70996},\n   'isHome': True,\n   'shotType': 'goal',\n   'goalType': 'regular',\n   'situation': 'assisted',\n   'playerCoordinates': {'x': 21.5, 'y': 60.7, 'z': 0},\n   'bodyPart': 'right-foot',\n   'goalMouthLocation': 'low-right',\n   'goalMouthCoordinates': {'x': 0, 'y': 46.4, 'z': 1.3},\n   'xg': 0.092683412134647,\n   'xgot': 0.25,\n   'id': 1961306,\n   'time': 7,\n   'timeSeconds': 369,\n   'draw': {'start': {'x': 60.7, 'y': 21.5},\n    'end': {'x': 53.6, 'y': 0},\n    'goal': {'x': 53.6, 'y': 98.7}},\n   'reversedPeriodTime': 39,\n   'reversedPeriodTimeSeconds': 2331,\n   'incidentType': 'shot'}]}"
     },
     "execution_count": 22,
     "metadata": {},
     "output_type": "execute_result"
    }
   ],
   "source": [
    "shots"
   ],
   "metadata": {
    "collapsed": false
   }
  },
  {
   "cell_type": "markdown",
   "source": [
    "### This is an example of one of the many ways to get data from sofascore,you can also look through their different API's and see what you can find"
   ],
   "metadata": {
    "collapsed": false
   }
  },
  {
   "cell_type": "code",
   "execution_count": null,
   "outputs": [],
   "source": [],
   "metadata": {
    "collapsed": false
   }
  }
 ],
 "metadata": {
  "kernelspec": {
   "display_name": "Python 3",
   "language": "python",
   "name": "python3"
  },
  "language_info": {
   "codemirror_mode": {
    "name": "ipython",
    "version": 2
   },
   "file_extension": ".py",
   "mimetype": "text/x-python",
   "name": "python",
   "nbconvert_exporter": "python",
   "pygments_lexer": "ipython2",
   "version": "2.7.6"
  }
 },
 "nbformat": 4,
 "nbformat_minor": 0
}
