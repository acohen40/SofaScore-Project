{
 "cells": [
  {
   "cell_type": "markdown",
   "id": "256947e2",
   "metadata": {},
   "source": [
    "# SofaScore Web-Scrapper"
   ]
  },
  {
   "cell_type": "markdown",
   "id": "bf4c43ba",
   "metadata": {},
   "source": [
    "### In order to Web-Scrape, you need to add the SofaScore Game ID which is in the URL of a game: for example https://www.sofascore.com/en-us/arsenal-crystal-palace/hsR#id:10385741 is the URL for the first game of the Premier Leage 22/23 season. See the Game ID at the end (10385741)? That is all you need, then you just type in the name of the Home team and Away team and the date. My code should do the rest for you! Enjoy."
   ]
  },
  {
   "cell_type": "code",
   "execution_count": 5,
   "id": "8cb6def1",
   "metadata": {},
   "outputs": [],
   "source": [
    "import requests\n",
    "import pandas as pd\n",
    "\n",
    "from bs4 import BeautifulSoup\n",
    "# All you need is to input the 4 things below!\n",
    "game_dict = {10385741: ['Arsenal', 'Crystal Palace', '8/5/22']}\n",
    "\n",
    "combined_df = pd.DataFrame()\n",
    "\n",
    "for each_id, team_info in game_dict.items():\n",
    "    home_team_name, away_team_name, the_date = team_info\n",
    "\n",
    "    response = requests.get('https://www.sofascore.com', headers={'User-Agent': 'Mozilla/5.0 (Macintosh; Intel Mac OS X 10_15_7) AppleWebKit/537.36 (KHTML, like Gecko) Chrome/119.0.0.0 Safari/537.36'})\n",
    "\n",
    "    soup = BeautifulSoup(response.text, 'html.parser')\n",
    "\n",
    "    headers = {\n",
    "    'authority': 'api.sofascore.com',\n",
    "    'accept': '*/*',\n",
    "    'accept-language': 'en-US,en;q=0.9',\n",
    "    'if-none-match': 'W/\"c5ccb17412\"',\n",
    "    'origin': 'https://www.sofascore.com',\n",
    "    'referer': 'https://www.sofascore.com/',\n",
    "    'sec-ch-ua': '\"Google Chrome\";v=\"119\", \"Chromium\";v=\"119\", \"Not?A_Brand\";v=\"24\"',\n",
    "    'sec-ch-ua-mobile': '?0',\n",
    "    'sec-ch-ua-platform': '\"macOS\"',\n",
    "    'sec-fetch-dest': 'empty',\n",
    "    'sec-fetch-mode': 'cors',\n",
    "    'sec-fetch-site': 'same-site',\n",
    "    'user-agent': 'Mozilla/5.0 (Macintosh; Intel Mac OS X 10_15_7) AppleWebKit/537.36 (KHTML, like Gecko) Chrome/119.0.0.0 Safari/537.36',}\n",
    "\n",
    "    response = requests.get(f'https://api.sofascore.com/api/v1/event/{each_id}/lineups', headers=headers)\n",
    "    response\n",
    "    headers['If-Modified-Since'] = ''\n",
    "\n",
    "    response = requests.get(f'https://api.sofascore.com/api/v1/event/{each_id}/lineups', headers=headers)\n",
    "\n",
    "    lineups = response.json()\n",
    "    lineups_data_home = lineups['home']['players']\n",
    "    confirmed_value_home = lineups['home'].get('confirmed', None)\n",
    "    flattened_data_home = [{'team': home_team_name, 'confirmed': confirmed_value_home, **player['player'], **player} for player in lineups_data_home]\n",
    "\n",
    "    lineups_data_away = lineups['away']['players']\n",
    "    confirmed_value_away = lineups['away'].get('confirmed', None)\n",
    "    flattened_data_away = [{'team': away_team_name, 'confirmed': confirmed_value_away, **player['player'], **player} for player in lineups_data_away]\n",
    "\n",
    "\n",
    "    flattened_data = flattened_data_home + flattened_data_away\n",
    "\n",
    "\n",
    "    df = pd.json_normalize(flattened_data)\n",
    "\n",
    "    desired_columns = [\n",
    "    'statistics.rating', 'team', 'shortName', 'position', 'shirtNumber',\n",
    "    'substitute', 'country.name', 'statistics.minutesPlayed', 'statistics.goals', 'statistics.expectedGoals', 'statistics.goalAssist',\n",
    "    'statistics.expectedAssists', 'statistics.touches', 'statistics.totalPass', 'statistics.accuratePass',\n",
    "    'statistics.keyPass', 'statistics.totalCross', 'statistics.accurateCross',\n",
    "    'statistics.totalLongBalls', 'statistics.accurateLongBalls', 'statistics.bigChanceCreated', 'statistics.onTargetScoringAttempt',\n",
    "    'statistics.shotOffTarget', 'statistics.hitWoodwork', 'statistics.outfielderBlock', 'statistics.totalContest', 'statistics.wonContest',\n",
    "    'statistics.bigChanceMissed', 'statistics.duelLost', 'statistics.duelWon', 'statistics.aerialLost', 'statistics.aerialWon',\n",
    "    'statistics.possessionLostCtrl', 'statistics.fouls', 'statistics.wasFouled', 'statistics.totalOffside',\n",
    "    'statistics.totalClearance', 'statistics.clearanceOffLine', 'statistics.blockedScoringAttempt', 'statistics.interceptionWon',\n",
    "    'statistics.totalTackle', 'statistics.ownGoals', 'statistics.challengeLost', 'statistics.dispossessed',\n",
    "    'statistics.saves', 'statistics.goalsPrevented', 'statistics.savedShotsFromInsideTheBox', 'statistics.punches', 'statistics.goodHighClaim'\n",
    "     ]\n",
    "\n",
    "    for column in desired_columns:\n",
    "        if column not in df.columns:\n",
    "            df[column] = None\n",
    "    df1 = df[desired_columns].copy()\n",
    "\n",
    "    df1.columns = [col.replace(\"statistics.\", \"\").capitalize() if col.startswith(\"statistics.\") else col for col in df1.columns]\n",
    "\n",
    "    df1.rename(columns={'shortName': 'Name',\n",
    "                        'position': 'Position',\n",
    "                        'country.name': 'Country',\n",
    "                        'Totalpass': 'TotalPasses',\n",
    "                        'Accuratepass': 'AccuratePasses',\n",
    "                        'Totallongballs': 'TotalLongBalls',\n",
    "                        'Accuratelongballs': 'AccurateLongBalls',\n",
    "                        'Totalclearance': 'TotalClearances',\n",
    "                        'Totalclearance': 'TotalClearances',\n",
    "                        'Goodhighclaim': 'HighClaims',\n",
    "                        'Savedshotsfrominsidethebox': 'SavesInsideBox',\n",
    "                        'Saves': 'SavesOutsideBox',\n",
    "                        'Possessionlostctrl': 'LostPossession',\n",
    "                        'Keypass': 'Keypasses',\n",
    "                        'Goalsprevented': 'GoalsPrevented',\n",
    "                        'Aeriallost': 'TotalAerialDuels',\n",
    "                        'Aerialwon': 'AerialDuelsWon',\n",
    "                        'Duellost': 'TotalGroundDuels',\n",
    "                        'Duelwon': 'GroundDuelsWon',\n",
    "                        'Blockedscoringattempt': 'ShotsBlocked',\n",
    "                        'Ontargetscoringattempt': 'ShotOnTarget',\n",
    "                        'Shotofftarget': 'ShotOffTarget',\n",
    "                        'Totaloffside': 'Offsides',\n",
    "                        'Goalassist' : 'Assists',\n",
    "                        'Bigchancecreated': 'BigChancesCreated',\n",
    "                        'Bigchancemissed': 'BigChancesMissed',\n",
    "                        'Totalcontest': 'TotalDribbles',\n",
    "                        'Woncontest': 'SuccessfulDribbles',\n",
    "                        'ownGoals': 'OwnGoals',\n",
    "                        'challengeLost': 'ChallengesLost',\n",
    "                        'disspossessed': 'Disspossessed',\n",
    "                        'hitWoodwork': 'HitWoodwork',\n",
    "                        'outfielderBlock': 'BlockedShots',\n",
    "                        }, inplace=True)\n",
    "\n",
    "\n",
    "    df1.insert(0, 'Date', pd.to_datetime(the_date).date())\n",
    "    df1.dropna(subset=['Rating'], inplace=True)\n",
    "    df1.fillna(0, inplace=True)\n",
    "\n",
    "    combined_df = pd.concat([combined_df, df1], ignore_index=True)"
   ]
  },
  {
   "cell_type": "code",
   "execution_count": 6,
   "id": "bf3469c8",
   "metadata": {},
   "outputs": [
    {
     "data": {
      "text/html": [
       "<a href='ArsenalvsPalace.xlsx' target='_blank'>ArsenalvsPalace.xlsx</a><br>"
      ],
      "text/plain": [
       "/Users/adamcohen/Downloads/ArsenalvsPalace.xlsx"
      ]
     },
     "execution_count": 6,
     "metadata": {},
     "output_type": "execute_result"
    }
   ],
   "source": [
    "import pandas as pd\n",
    "combined_df.to_excel('ArsenalvsPalace.xlsx', index=False)\n",
    "from IPython.display import FileLink\n",
    "FileLink(r'ArsenalvsPalace.xlsx')"
   ]
  }
 ],
 "metadata": {
  "kernelspec": {
   "display_name": "Python 3 (ipykernel)",
   "language": "python",
   "name": "python3"
  },
  "language_info": {
   "codemirror_mode": {
    "name": "ipython",
    "version": 3
   },
   "file_extension": ".py",
   "mimetype": "text/x-python",
   "name": "python",
   "nbconvert_exporter": "python",
   "pygments_lexer": "ipython3",
   "version": "3.11.3"
  }
 },
 "nbformat": 4,
 "nbformat_minor": 5
}
